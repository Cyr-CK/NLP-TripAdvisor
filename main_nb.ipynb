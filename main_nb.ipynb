{
 "cells": [
  {
   "cell_type": "code",
   "execution_count": 4,
   "metadata": {},
   "outputs": [],
   "source": [
    "from tripAdvisorScraper import TripAdvisorRestaurantsScraper, TripAdvisorSpecificRestaurantScraper\n",
    "import pandas as pd\n",
    "import ipywidgets as widgets\n",
    "from IPython.display import display\n",
    "import os\n",
    "\n",
    "\n",
    "data_folder = './data'\n",
    "data_restaurants = os.path.join(data_folder, 'restaurants.csv')\n",
    "if not os.path.exists(data_folder):\n",
    "    os.makedirs(data_folder)"
   ]
  },
  {
   "cell_type": "code",
   "execution_count": null,
   "metadata": {},
   "outputs": [
    {
     "ename": "IndentationError",
     "evalue": "expected an indented block after 'with' statement on line 46 (4252277841.py, line 47)",
     "output_type": "error",
     "traceback": [
      "\u001b[0;36m  Cell \u001b[0;32mIn[8], line 47\u001b[0;36m\u001b[0m\n\u001b[0;31m    print('Generating data...')\u001b[0m\n\u001b[0m    ^\u001b[0m\n\u001b[0;31mIndentationError\u001b[0m\u001b[0;31m:\u001b[0m expected an indented block after 'with' statement on line 46\n"
     ]
    }
   ],
   "source": [
    "button = widgets.Button(description=\"Download data!\")\n",
    "output = widgets.Output()\n",
    "\n",
    "display(button, output)\n",
    "\n",
    "def on_button_clicked(b):\n",
    "    with output:\n",
    "        print('Generating data...')\n",
    "        restaurants_url = \"/FindRestaurants?geo=187265&offset=0&establishmentTypes=10591&minimumTravelerRating=TRAVELER_RATING_LOW&broadened=false\"\n",
    "        button.layout.display = 'none'\n",
    "        try: \n",
    "            restaurants_scraper = TripAdvisorRestaurantsScraper()\n",
    "            restaurants_scraper.fetch_page(restaurants_url)\n",
    "            corpus = restaurants_scraper.get_all_pages()\n",
    "            df = pd.DataFrame(corpus)\n",
    "            display(df.head())\n",
    "            df.to_csv('./data/restaurants.csv', index=False)\n",
    "            print('Restaurants data downloaded! run again this cell to start.')\n",
    "        except Exception as e:\n",
    "            print(f'Error: {e}')\n",
    "            button.layout.display = 'block'\n",
    "\n",
    "button.on_click(on_button_clicked)\n",
    "if not os.path.exists(data_restaurants):\n",
    "    button.layout.display = 'block'\n",
    "    # with output:\n",
    "        # print(\"Data file does not exist.\")\n",
    "else:\n",
    "    button.layout.display = 'none'\n",
    "    df = pd.read_csv(data_restaurants)\n",
    "    print('Data file exists.')\n",
    "    print('Select a restaurant to download its data.')\n",
    "\n",
    "    restaurants_dropdown = widgets.Dropdown(\n",
    "        options=df['restaurant_name'].to_list(),\n",
    "        value=df['restaurant_name'].to_list()[0],\n",
    "        description='Restaurant:',\n",
    "        disabled=False,\n",
    "        )\n",
    "    with output:\n",
    "        display(restaurants_dropdown)\n",
    "        selection_button = widgets.Button(description=\"Get Selection\")\n",
    "        output_selection = widgets.Output()\n",
    "\n",
    "        def on_selection_button_clicked(b):\n",
    "            with output_selection:\n",
    "                print('Generating data...')\n",
    "                restaurant_name = restaurants_dropdown.value\n",
    "                df_restaurants = pd.read_csv(data_restaurants)\n",
    "                restaurant_data = df_restaurants[df_restaurants['restaurant_name'] == restaurant_name]\n",
    "                restaurant_url = restaurant_data['restaurant_url'].values[0]\n",
    "                restaurant_name_clean = ''.join(e for e in restaurant_name if e.isalnum() or e == ' ')\n",
    "                restaurant_name_clean = restaurant_name_clean.replace(' ', '_')\n",
    "                data_restaurant = os.path.join(data_folder, f'{restaurant_name_clean}.csv')\n",
    "                \n",
    "                if os.path.exists(data_restaurant):\n",
    "                    print(f'Data for {restaurant_name} already exists.')\n",
    "                else:\n",
    "                    scraper = TripAdvisorSpecificRestaurantScraper()\n",
    "                    scraper.fetch_page(restaurant_url)\n",
    "                    corpus = scraper.get_all_pages()\n",
    "                    df_restaurant = pd.DataFrame(corpus)\n",
    "                    df_restaurant.to_csv(data_restaurant, index=False)\n",
    "                    print('Selection data generated!')\n",
    "\n",
    "        selection_button.on_click(on_selection_button_clicked)\n",
    "\n",
    "        display(selection_button, output_selection)\n",
    "        \n",
    "        \n",
    "        \n",
    "        "
   ]
  }
 ],
 "metadata": {
  "kernelspec": {
   "display_name": "nlp_project_python",
   "language": "python",
   "name": "python3"
  },
  "language_info": {
   "codemirror_mode": {
    "name": "ipython",
    "version": 3
   },
   "file_extension": ".py",
   "mimetype": "text/x-python",
   "name": "python",
   "nbconvert_exporter": "python",
   "pygments_lexer": "ipython3",
   "version": "3.11.10"
  }
 },
 "nbformat": 4,
 "nbformat_minor": 2
}
