{
 "cells": [
  {
   "cell_type": "code",
   "execution_count": 2,
   "metadata": {},
   "outputs": [],
   "source": [
    "from bs4 import BeautifulSoup\n",
    "import re\n",
    "import time\n",
    "import requests\n",
    "import random\n",
    "import string\n",
    "\n",
    "import pandas as pd\n"
   ]
  },
  {
   "cell_type": "code",
   "execution_count": 3,
   "metadata": {},
   "outputs": [],
   "source": [
    "def clean_text(text: str) -> str:\n",
    "    txt = text.replace('\\n', ' ').replace('\\r', ' ').replace('\\t', ' ')\n",
    "    txt = txt.replace('  ', ' ')\n",
    "    return txt.strip()\n",
    "\n",
    "def extract_by_regex(text: str, regex: str) -> str:\n",
    "    pattern = re.compile(regex)\n",
    "    match = pattern.search(text)\n",
    "    if match:\n",
    "        # Check if there are any groups and return the first group if it exists\n",
    "        if match.groups():\n",
    "            return match.group(1) + \" \" + match.group(2) if len(match.groups()) > 1 else match.group(1)\n",
    "        else:\n",
    "            return match.group(0)  # Return the entire match if no groups are defined\n",
    "    return \"\""
   ]
  },
  {
   "cell_type": "code",
   "execution_count": 7,
   "metadata": {},
   "outputs": [],
   "source": [
    "class TripAdvisorScraper:\n",
    "    def __init__(self, url):\n",
    "        self.url = url\n",
    "        self.soup = None\n",
    "\n",
    "\n",
    "    def fetch_page(self):\n",
    "        \n",
    "        # Set headers\n",
    "        random_request_id = \"\".join(\n",
    "                random.choice(string.ascii_lowercase + string.digits) for i in range(180)\n",
    "            )\n",
    "        \n",
    "        headers = {\n",
    "            'User-Agent': 'Mozilla/5.0 (Windows NT 10.0; Win64; x64) AppleWebKit/537.36 (KHTML, like Gecko) Chrome/58.0.3029.110 Safari/537.3',\n",
    "            'accept-language': 'en-US,en;q=0.9,fr;q=0.8',\n",
    "            \"X-Requested-By\": random_request_id,\n",
    "            \"Referer\": \"https://www.tripadvisor.com/Hotels\",\n",
    "            \"Origin\": \"https://www.tripadvisor.com\",\n",
    "            'accept-encoding': 'gzip, deflate, br',\n",
    "            'accept': 'text/html,application/xhtml+xml,application/xml;q=0.9,image/webp,image/apng,*/*;q=0.8',\n",
    "            'encoding': 'utf-8',\n",
    "        }\n",
    "        \n",
    "        # Send a GET request\n",
    "        response = requests.get(self.url, headers=headers)\n",
    "        try:\n",
    "            # Check encoding\n",
    "            \n",
    "            if response.headers.get('Content-Encoding') == 'gzip':\n",
    "                content = response.content.decode('gzip')\n",
    "            elif response.headers.get('Content-Encoding') == 'deflate':\n",
    "                content = response.content.decode('zlib')\n",
    "            # elif response.headers.get('Content-Encoding') == 'br':\n",
    "            #     content = brotli.decompress(response.content)\n",
    "            else:\n",
    "                content = response.text \n",
    "        \n",
    "        except Exception as e:\n",
    "            print(f\"Error: {e}\")\n",
    "            content = response.text\n",
    "        finally:    \n",
    "            self.soup = BeautifulSoup(content, 'html.parser')\n",
    "\n",
    "    def print_soup(self):\n",
    "        if self.soup:\n",
    "            print(self.soup.prettify())\n",
    "        else:\n",
    "            print(\"Soup is not initialized. Please fetch the page first.\")\n",
    "\n",
    "\n",
    "\n",
    "    "
   ]
  },
  {
   "cell_type": "code",
   "execution_count": null,
   "metadata": {},
   "outputs": [],
   "source": [
    "class TripAdvisorRestaurantsScrapper(TripAdvisorScraper):\n",
    "    def __init__(self, url):\n",
    "        super().__init__(url)\n",
    "        self.restaurant_data = []\n",
    "        \n",
    "    def get_review_cards(self):\n",
    "        if self.soup:\n",
    "            review_cards = self.soup.find_all('div', class_='_c', attrs={'data-automation': 'reviewCard'})\n",
    "            return review_cards\n",
    "        else:\n",
    "            print(\"Soup is not initialized. Please fetch the page first.\")\n",
    "            return []\n",
    "        \n",
    "    def get_next_url(self, base_url):\n",
    "        next_url = self.soup.find('a', class_='BrOJk u j z _F wSSLS tIqAi unMkR', attrs={'aria-label':\"Next page\"})\n",
    "        if next_url is not None:\n",
    "            next_url = base_url + next_url.get('href')\n",
    "            return next_url\n",
    "        else:\n",
    "            return None\n",
    "        \n",
    "\n",
    "\n",
    "    def extract_restaurant_data(self):\n",
    "        if not self.soup:\n",
    "            self.fetch_page()\n",
    "        \n",
    "        # Extract the main container\n",
    "        main_container = self.soup.find(\"div\", class_=\"_1kXteagE"
   ]
  },
  {
   "cell_type": "code",
   "execution_count": 6,
   "metadata": {},
   "outputs": [
    {
     "data": {
      "text/plain": [
       "'https://www.tripadvisor.com/FindRestaurants?geo=187265&offset=0&establishmentTypes=10591&minimumTravelerRating=TRAVELER_RATING_LOW&broadened=false'"
      ]
     },
     "execution_count": 6,
     "metadata": {},
     "output_type": "execute_result"
    }
   ],
   "source": [
    "base_url = \"https://www.tripadvisor.com\"\n",
    "restaurants_comp = \"/FindRestaurants?geo=187265&offset=0&establishmentTypes=10591&minimumTravelerRating=TRAVELER_RATING_LOW&broadened=false\"\n",
    "full_url = base_url + restaurants_comp\n",
    "full_url"
   ]
  },
  {
   "cell_type": "code",
   "execution_count": null,
   "metadata": {},
   "outputs": [],
   "source": []
  }
 ],
 "metadata": {
  "kernelspec": {
   "display_name": "nlp_project_python",
   "language": "python",
   "name": "python3"
  },
  "language_info": {
   "codemirror_mode": {
    "name": "ipython",
    "version": 3
   },
   "file_extension": ".py",
   "mimetype": "text/x-python",
   "name": "python",
   "nbconvert_exporter": "python",
   "pygments_lexer": "ipython3",
   "version": "3.11.10"
  }
 },
 "nbformat": 4,
 "nbformat_minor": 2
}
