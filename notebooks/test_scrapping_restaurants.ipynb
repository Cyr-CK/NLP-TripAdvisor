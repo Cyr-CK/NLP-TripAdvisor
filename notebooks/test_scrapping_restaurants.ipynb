{
 "cells": [
  {
   "cell_type": "code",
   "execution_count": 120,
   "metadata": {},
   "outputs": [],
   "source": [
    "from bs4 import BeautifulSoup\n",
    "import re\n",
    "import time\n",
    "import requests\n",
    "import random\n",
    "import string\n",
    "\n",
    "import pandas as pd\n"
   ]
  },
  {
   "cell_type": "code",
   "execution_count": 121,
   "metadata": {},
   "outputs": [],
   "source": [
    "def clean_text(text: str) -> str:\n",
    "    txt = text.replace('\\n', ' ').replace('\\r', ' ').replace('\\t', ' ')\n",
    "    txt = txt.replace('  ', ' ')\n",
    "    return txt.strip()\n",
    "\n",
    "def extract_by_regex(text: str, regex: str) -> str:\n",
    "    pattern = re.compile(regex)\n",
    "    match = pattern.search(text)\n",
    "    if match:\n",
    "        # Check if there are any groups and return the first group if it exists\n",
    "        if match.groups():\n",
    "            return match.group(1) + \" \" + match.group(2) if len(match.groups()) > 1 else match.group(1)\n",
    "        else:\n",
    "            return match.group(0)  # Return the entire match if no groups are defined\n",
    "    return \"\""
   ]
  },
  {
   "cell_type": "code",
   "execution_count": 164,
   "metadata": {},
   "outputs": [],
   "source": [
    "class TripAdvisorScraper:\n",
    "    \"\"\"\n",
    "    Base class for TripAdvisor scraping.\n",
    "    All the other classes will inherit from this one.\n",
    "    \"\"\"\n",
    "\n",
    "    def __init__(self):\n",
    "        self.url_base = \"https://www.tripadvisor.com\"\n",
    "        self.soup = None\n",
    "        self.url = None\n",
    "        self.full_url = None\n",
    "\n",
    "    def fetch_page(self, url):\n",
    "        \"\"\"\n",
    "        Fetch the page and set the soup.\n",
    "        \"\"\"\n",
    "        self.url = url\n",
    "        self.full_url = self.url_base + url\n",
    "        # Set headers\n",
    "        random_request_id = \"\".join(\n",
    "            random.choice(string.ascii_lowercase + string.digits) for i in range(180)\n",
    "        )\n",
    "\n",
    "        headers = {\n",
    "            \"User-Agent\": \"Mozilla/5.0 (Windows NT 10.0; Win64; x64) AppleWebKit/537.36 (KHTML, like Gecko) Chrome/58.0.3029.110 Safari/537.3\",\n",
    "            \"accept-language\": \"en-US,en;q=0.9,fr;q=0.8\",\n",
    "            \"X-Requested-By\": random_request_id,\n",
    "            \"Referer\": \"https://www.tripadvisor.com/Hotels\",\n",
    "            \"Origin\": \"https://www.tripadvisor.com\",\n",
    "            \"accept-encoding\": \"gzip, deflate, br\",\n",
    "            \"accept\": \"text/html,application/xhtml+xml,application/xml;q=0.9,image/webp,image/apng,*/*;q=0.8\",\n",
    "            \"encoding\": \"utf-8\",\n",
    "        }\n",
    "\n",
    "        # Send a GET request\n",
    "        response = requests.get(self.full_url, headers=headers)\n",
    "        try:\n",
    "            # Check encoding\n",
    "\n",
    "            if response.headers.get(\"Content-Encoding\") == \"gzip\":\n",
    "                content = response.content.decode(\"gzip\")\n",
    "            elif response.headers.get(\"Content-Encoding\") == \"deflate\":\n",
    "                content = response.content.decode(\"zlib\")\n",
    "            # elif response.headers.get('Content-Encoding') == 'br':\n",
    "            #     content = brotli.decompress(response.content)\n",
    "            else:\n",
    "                content = response.text\n",
    "\n",
    "        except Exception as e:\n",
    "            print(f\"Error: {e}\")\n",
    "            content = response.text\n",
    "        finally:\n",
    "            self.soup = BeautifulSoup(content, \"html.parser\")\n",
    "\n",
    "    def print_soup(self):\n",
    "        \"\"\"\n",
    "        print the soup\n",
    "        \"\"\"\n",
    "        if self.soup:\n",
    "            print(self.soup.prettify())\n",
    "        else:\n",
    "            print(\"Soup is not initialized. Please fetch the page first.\")\n"
   ]
  },
  {
   "cell_type": "code",
   "execution_count": null,
   "metadata": {},
   "outputs": [],
   "source": [
    "from bs4 import BeautifulSoup\n",
    "import time\n",
    "import requests\n",
    "import random\n",
    "import string\n",
    "\n",
    "\n",
    "class TripAdvisorRestaurantsScraper(TripAdvisorScraper):\n",
    "    \"\"\"\n",
    "    Class to scrap the list of restaurants.\n",
    "    \"\"\"\n",
    "\n",
    "    def __init__(self):\n",
    "        super().__init__()\n",
    "        self.restaurant_data = []\n",
    "        self.ranking = 0\n",
    "\n",
    "    def get_restaurants_cards(self):\n",
    "        \"\"\"\n",
    "        Get the restaurant cards from the soup.\n",
    "        @return: list of restaurant cards (beautiful soup objects)\n",
    "        \"\"\"\n",
    "        if self.soup:\n",
    "            restaurant_cards = self.soup.find_all(\n",
    "                \"div\", class_=\"tbrcR _T DxHsn TwZIp rrkMt nSZNd DALUy Re\"\n",
    "            )\n",
    "            return restaurant_cards\n",
    "        else:\n",
    "            print(\"Soup is not initialized. Please fetch the page first.\")\n",
    "            return []\n",
    "\n",
    "    def get_next_url(self):\n",
    "        \"\"\"\n",
    "        Get the next url to scrap\n",
    "        \"\"\"\n",
    "        next_url = self.soup.find(\n",
    "            \"a\",\n",
    "            class_=\"BrOJk u j z _F wSSLS tIqAi unMkR\",\n",
    "            attrs={\"aria-label\": \"Next page\"},\n",
    "        )\n",
    "        if next_url is not None:\n",
    "            return next_url.get(\"href\")\n",
    "        else:\n",
    "            return None\n",
    "\n",
    "    def extract_restaurant_data(self, restaurant_cards):\n",
    "        \"\"\"\n",
    "        Extract the restaurant data from the restaurant cards.\n",
    "        @param restaurant_cards: list of restaurant cards (beautiful soup objects)\n",
    "        @return: list of restaurant data (liste de dicts)\n",
    "        \"\"\"\n",
    "        corpus = []\n",
    "        # restaurant_name = \"biGQs _P fiohW alXOW oCpZu GzNcM nvOhm UTQMg ZTpaU mtnKn ngXxk\"\n",
    "        # # non utilisé donc commenté\n",
    "\n",
    "        restaurant_url = \"BMQDV _F Gv wSSLS SwZTJ FGwzt ukgoS\"\n",
    "        restaurant_reviews = \"jVDab W f u w JqMhy\"\n",
    "        restaurant_type = \"biGQs _P pZUbB hmDzD\"\n",
    "        restaurant_price = \"biGQs _P pZUbB hmDzD\"\n",
    "        \n",
    "        for restaurant_card in restaurant_cards:\n",
    "            self.ranking += 1\n",
    "            scrap_restaurant_name = (\n",
    "                restaurant_card.find(\"a\", {\"class\": restaurant_url}).text\n",
    "                if restaurant_card.find(\"a\", {\"class\": restaurant_url})\n",
    "                else None\n",
    "            )\n",
    "            scrap_restaurant_url = (\n",
    "                restaurant_card.find(\"a\", {\"class\": restaurant_url}).get(\"href\")\n",
    "                if restaurant_card.find(\"a\", {\"class\": restaurant_url})\n",
    "                else None\n",
    "            )\n",
    "            scrap_restaurant_reviews = (\n",
    "                restaurant_card.find(\"div\", {\"class\": restaurant_reviews}).get(\n",
    "                    \"aria-label\"\n",
    "                )\n",
    "                if restaurant_card.find(\"div\", {\"class\": restaurant_reviews})\n",
    "                else None\n",
    "            )\n",
    "            scrap_restaurant_type = (\n",
    "                restaurant_card.find(\"span\", {\"class\": restaurant_type}).text\n",
    "                if restaurant_card.find(\"span\", {\"class\": restaurant_type})\n",
    "                else None\n",
    "            )\n",
    "            price_elements = [card.text for card in restaurant_card.find_all(\"span\", {\"class\": restaurant_price}) if '$' in card.text]\n",
    "            scrap_restaurant_price = price_elements[0] if price_elements else None\n",
    "            \n",
    "            doc = {\n",
    "                \"restaurant_ranking\": self.ranking,\n",
    "                \"restaurant_name\": (\n",
    "                    scrap_restaurant_name.split(\".\")[1].strip()\n",
    "                    if scrap_restaurant_name and len(scrap_restaurant_name.split(\".\")) > 1\n",
    "                    else scrap_restaurant_name.split(\".\")[0].strip()\n",
    "                    if scrap_restaurant_name and len(scrap_restaurant_name.split(\".\")) > 0\n",
    "                    else None\n",
    "                ),\n",
    "                \"restaurant_url\": (\n",
    "                    scrap_restaurant_url\n",
    "                    if scrap_restaurant_url is not None and scrap_restaurant_url != \"\"\n",
    "                    else None\n",
    "                ),\n",
    "                \"restaurant_reviews\": (\n",
    "                    scrap_restaurant_reviews\n",
    "                    if scrap_restaurant_reviews is not None\n",
    "                    else None\n",
    "                ),\n",
    "                \"restaurant_type\": (\n",
    "                    scrap_restaurant_type\n",
    "                    if scrap_restaurant_type is not None\n",
    "                    else None\n",
    "                ),\n",
    "                \"restaurant_price\": (\n",
    "                    scrap_restaurant_price\n",
    "                    if scrap_restaurant_price is not None\n",
    "                    else None\n",
    "                ),\n",
    "            }\n",
    "            corpus.append(doc)\n",
    "        return corpus\n",
    "\n",
    "    def get_all_pages(self):\n",
    "        \"\"\"\n",
    "        Get all the restaurants\n",
    "        @return: list of restaurant data (liste de dicts)\n",
    "        \"\"\"\n",
    "        page = 1\n",
    "        corpus = []\n",
    "        tries = 0\n",
    "        while self.url is not None:\n",
    "            time.sleep(random.uniform(1, 3))\n",
    "            self.fetch_page(self.url)\n",
    "            new_cards = self.get_restaurants_cards()\n",
    "            if not new_cards:\n",
    "                tries += 1\n",
    "                if tries > 10:\n",
    "                    raise Exception(\"No restaurant cards found - Aborting\")\n",
    "                else:\n",
    "                    continue\n",
    "            new_reg = self.extract_restaurant_data(new_cards)\n",
    "            corpus.extend(new_reg)\n",
    "            print(f\"Page {page} done, corpus size: {len(corpus)}\")\n",
    "            page += 1\n",
    "            self.url = self.get_next_url()\n",
    "            tries = 0\n",
    "        return corpus\n"
   ]
  },
  {
   "cell_type": "code",
   "execution_count": 284,
   "metadata": {},
   "outputs": [],
   "source": [
    "restaurants_comp = \"/FindRestaurants?geo=187265&offset=0&establishmentTypes=10591&minimumTravelerRating=TRAVELER_RATING_LOW&broadened=false\"\n",
    "restaurants_scraper = TripAdvisorRestaurantsScraper()\n",
    "restaurants_scraper.fetch_page(restaurants_comp)"
   ]
  },
  {
   "cell_type": "code",
   "execution_count": 285,
   "metadata": {},
   "outputs": [
    {
     "name": "stdout",
     "output_type": "stream",
     "text": [
      "try 0\n",
      "No restaurant cards found - Trying again\n",
      "try 1\n",
      "No restaurant cards found - Trying again\n",
      "try 2\n",
      "Page 1 - 33 cards found\n",
      "Page 1 done, corpus size: 33\n",
      "try 0\n",
      "No restaurant cards found - Trying again\n",
      "try 1\n",
      "Page 2 - 33 cards found\n",
      "Page 2 done, corpus size: 66\n",
      "try 0\n",
      "No restaurant cards found - Trying again\n",
      "try 1\n",
      "No restaurant cards found - Trying again\n",
      "try 2\n",
      "Page 3 - 33 cards found\n",
      "Page 3 done, corpus size: 99\n",
      "try 0\n",
      "Page 4 - 32 cards found\n",
      "Page 4 done, corpus size: 131\n",
      "try 0\n",
      "Page 5 - 33 cards found\n",
      "Page 5 done, corpus size: 164\n",
      "try 0\n"
     ]
    },
    {
     "ename": "KeyboardInterrupt",
     "evalue": "",
     "output_type": "error",
     "traceback": [
      "\u001b[0;31m---------------------------------------------------------------------------\u001b[0m",
      "\u001b[0;31mKeyboardInterrupt\u001b[0m                         Traceback (most recent call last)",
      "Cell \u001b[0;32mIn[285], line 1\u001b[0m\n\u001b[0;32m----> 1\u001b[0m corpus \u001b[38;5;241m=\u001b[39m \u001b[43mrestaurants_scraper\u001b[49m\u001b[38;5;241;43m.\u001b[39;49m\u001b[43mget_all_pages\u001b[49m\u001b[43m(\u001b[49m\u001b[43m)\u001b[49m\n",
      "Cell \u001b[0;32mIn[283], line 131\u001b[0m, in \u001b[0;36mTripAdvisorRestaurantsScraper.get_all_pages\u001b[0;34m(self)\u001b[0m\n\u001b[1;32m    129\u001b[0m \u001b[38;5;28;01mwhile\u001b[39;00m \u001b[38;5;28mself\u001b[39m\u001b[38;5;241m.\u001b[39murl \u001b[38;5;129;01mis\u001b[39;00m \u001b[38;5;129;01mnot\u001b[39;00m \u001b[38;5;28;01mNone\u001b[39;00m:\n\u001b[1;32m    130\u001b[0m     \u001b[38;5;28mprint\u001b[39m(\u001b[38;5;124m'\u001b[39m\u001b[38;5;124mtry\u001b[39m\u001b[38;5;124m'\u001b[39m, tries)\n\u001b[0;32m--> 131\u001b[0m     \u001b[43mtime\u001b[49m\u001b[38;5;241;43m.\u001b[39;49m\u001b[43msleep\u001b[49m\u001b[43m(\u001b[49m\u001b[43mrandom\u001b[49m\u001b[38;5;241;43m.\u001b[39;49m\u001b[43muniform\u001b[49m\u001b[43m(\u001b[49m\u001b[38;5;241;43m1\u001b[39;49m\u001b[43m,\u001b[49m\u001b[43m \u001b[49m\u001b[38;5;241;43m3\u001b[39;49m\u001b[43m)\u001b[49m\u001b[43m)\u001b[49m\n\u001b[1;32m    132\u001b[0m     \u001b[38;5;28mself\u001b[39m\u001b[38;5;241m.\u001b[39mfetch_page(\u001b[38;5;28mself\u001b[39m\u001b[38;5;241m.\u001b[39murl)\n\u001b[1;32m    133\u001b[0m     new_cards \u001b[38;5;241m=\u001b[39m \u001b[38;5;28mself\u001b[39m\u001b[38;5;241m.\u001b[39mget_restaurants_cards()\n",
      "\u001b[0;31mKeyboardInterrupt\u001b[0m: "
     ]
    }
   ],
   "source": [
    "corpus = restaurants_scraper.get_all_pages()"
   ]
  },
  {
   "cell_type": "code",
   "execution_count": 237,
   "metadata": {},
   "outputs": [
    {
     "data": {
      "text/plain": [
       "'/FindRestaurants?geo=187265&offset=0&establishmentTypes=10591&minimumTravelerRating=TRAVELER_RATING_LOW&broadened=false'"
      ]
     },
     "execution_count": 237,
     "metadata": {},
     "output_type": "execute_result"
    }
   ],
   "source": [
    "restaurants_scraper.url"
   ]
  },
  {
   "cell_type": "code",
   "execution_count": 238,
   "metadata": {},
   "outputs": [],
   "source": [
    "cards = restaurants_scraper.get_restaurants_cards()\n"
   ]
  },
  {
   "cell_type": "code",
   "execution_count": null,
   "metadata": {},
   "outputs": [
    {
     "name": "stdout",
     "output_type": "stream",
     "text": [
      "{'restaurant_class': '1', 'restaurant_name': 'Les Terrasses de Lyon', 'restaurant_url': '/Restaurant_Review-g187265-d3727154-Reviews-Les_Terrasses_de_Lyon-Lyon_Rhone_Auvergne_Rhone_Alpes.html', 'restaurant_reviews': '4.5 of 5 bubbles. 916 reviews', 'restaurant_type': 'French', 'restaurant_price': '$$$$'}\n",
      "{'restaurant_class': '2', 'restaurant_name': 'Frazarin', 'restaurant_url': '/Restaurant_Review-g187265-d23110895-Reviews-Frazarin-Lyon_Rhone_Auvergne_Rhone_Alpes.html', 'restaurant_reviews': '5.0 of 5 bubbles. 297 reviews', 'restaurant_type': 'Italian, French', 'restaurant_price': '$$ - $$$'}\n",
      "{'restaurant_class': '3', 'restaurant_name': 'Agastache Restaurant', 'restaurant_url': '/Restaurant_Review-g187265-d20287839-Reviews-Agastache_Restaurant-Lyon_Rhone_Auvergne_Rhone_Alpes.html', 'restaurant_reviews': '5.0 of 5 bubbles. 202 reviews', 'restaurant_type': 'French, Contemporary', 'restaurant_price': '$$ - $$$'}\n",
      "{'restaurant_class': '4', 'restaurant_name': 'Le Comptoir Des Cousins', 'restaurant_url': '/Restaurant_Review-g187265-d12874430-Reviews-Le_Comptoir_Des_Cousins-Lyon_Rhone_Auvergne_Rhone_Alpes.html', 'restaurant_reviews': '5.0 of 5 bubbles. 711 reviews', 'restaurant_type': 'French, European', 'restaurant_price': '$$ - $$$'}\n",
      "{'restaurant_class': '5', 'restaurant_name': 'Le Casse Museau', 'restaurant_url': '/Restaurant_Review-g187265-d949361-Reviews-Le_Casse_Museau-Lyon_Rhone_Auvergne_Rhone_Alpes.html', 'restaurant_reviews': '5.0 of 5 bubbles. 411 reviews', 'restaurant_type': 'French', 'restaurant_price': '$$ - $$$'}\n",
      "{'restaurant_class': '6', 'restaurant_name': 'Bateau Hermes', 'restaurant_url': '/Restaurant_Review-g187265-d695176-Reviews-Bateau_Hermes-Lyon_Rhone_Auvergne_Rhone_Alpes.html', 'restaurant_reviews': '4.5 of 5 bubbles. 386 reviews', 'restaurant_type': 'French, European', 'restaurant_price': '$$$$'}\n",
      "{'restaurant_class': '7', 'restaurant_name': 'Le Grand Réfectoire', 'restaurant_url': '/Restaurant_Review-g187265-d15373478-Reviews-Le_Grand_Refectoire-Lyon_Rhone_Auvergne_Rhone_Alpes.html', 'restaurant_reviews': '4.0 of 5 bubbles. 1,321 reviews', 'restaurant_type': 'French, Gastropub', 'restaurant_price': '$$ - $$$'}\n",
      "{'restaurant_class': '8', 'restaurant_name': 'Le Vieux Lyon', 'restaurant_url': '/Restaurant_Review-g187265-d1605401-Reviews-Le_Vieux_Lyon-Lyon_Rhone_Auvergne_Rhone_Alpes.html', 'restaurant_reviews': '4.5 of 5 bubbles. 943 reviews', 'restaurant_type': 'French, European', 'restaurant_price': '$$ - $$$'}\n",
      "{'restaurant_class': '9', 'restaurant_name': 'Daniel et Denise Créqui', 'restaurant_url': '/Restaurant_Review-g187265-d788465-Reviews-Daniel_et_Denise_Crequi-Lyon_Rhone_Auvergne_Rhone_Alpes.html', 'restaurant_reviews': '4.0 of 5 bubbles. 1,245 reviews', 'restaurant_type': 'French, European', 'restaurant_price': '$$ - $$$'}\n",
      "{'restaurant_class': '10', 'restaurant_name': 'Brasserie Bouillon Baratte Institution Lyonnaise', 'restaurant_url': '/Restaurant_Review-g187265-d18719136-Reviews-Brasserie_Bouillon_Baratte_Institution_Lyonnaise-Lyon_Rhone_Auvergne_Rhone_Alpes.html', 'restaurant_reviews': '4.0 of 5 bubbles. 244 reviews', 'restaurant_type': 'French, Healthy', 'restaurant_price': '$$ - $$$'}\n",
      "{'restaurant_class': '11', 'restaurant_name': 'Les 3 Dômes', 'restaurant_url': '/Restaurant_Review-g187265-d798706-Reviews-Les_3_Domes-Lyon_Rhone_Auvergne_Rhone_Alpes.html', 'restaurant_reviews': '4.5 of 5 bubbles. 1,007 reviews', 'restaurant_type': 'French, European', 'restaurant_price': '$$$$'}\n",
      "{'restaurant_class': '12', 'restaurant_name': 'Les Enfants Terribles', 'restaurant_url': '/Restaurant_Review-g187265-d719519-Reviews-Les_Enfants_Terribles-Lyon_Rhone_Auvergne_Rhone_Alpes.html', 'restaurant_reviews': '3.5 of 5 bubbles. 709 reviews', 'restaurant_type': 'French, European', 'restaurant_price': '$$ - $$$'}\n",
      "{'restaurant_class': '13', 'restaurant_name': 'Celest Restaurant', 'restaurant_url': '/Restaurant_Review-g187265-d10720590-Reviews-Celest_Restaurant-Lyon_Rhone_Auvergne_Rhone_Alpes.html', 'restaurant_reviews': '4.0 of 5 bubbles. 530 reviews', 'restaurant_type': 'European', 'restaurant_price': '$$$$'}\n",
      "{'restaurant_class': '14', 'restaurant_name': 'Casa Nobile', 'restaurant_url': '/Restaurant_Review-g187265-d7045473-Reviews-Casa_Nobile-Lyon_Rhone_Auvergne_Rhone_Alpes.html', 'restaurant_reviews': '4.0 of 5 bubbles. 965 reviews', 'restaurant_type': 'Italian, Pizza', 'restaurant_price': '$$ - $$$'}\n",
      "{'restaurant_class': '15', 'restaurant_name': \"L'affreux Jojo\", 'restaurant_url': '/Restaurant_Review-g187265-d15114321-Reviews-L_affreux_Jojo-Lyon_Rhone_Auvergne_Rhone_Alpes.html', 'restaurant_reviews': '5.0 of 5 bubbles. 580 reviews', 'restaurant_type': 'Italian, Mediterranean', 'restaurant_price': '$$ - $$$'}\n",
      "{'restaurant_class': '16', 'restaurant_name': 'Table & Partage', 'restaurant_url': '/Restaurant_Review-g187265-d18626103-Reviews-Table_Partage-Lyon_Rhone_Auvergne_Rhone_Alpes.html', 'restaurant_reviews': '5.0 of 5 bubbles. 467 reviews', 'restaurant_type': 'French, Healthy', 'restaurant_price': '$$$$'}\n",
      "{'restaurant_class': '17', 'restaurant_name': 'Fiston - Bouchon Lyonnais', 'restaurant_url': '/Restaurant_Review-g187265-d15130370-Reviews-Fiston_Bouchon_Lyonnais-Lyon_Rhone_Auvergne_Rhone_Alpes.html', 'restaurant_reviews': '4.5 of 5 bubbles. 410 reviews', 'restaurant_type': 'French, Healthy', 'restaurant_price': '$$ - $$$'}\n",
      "{'restaurant_class': '18', 'restaurant_name': 'Bollywood Tandoor', 'restaurant_url': '/Restaurant_Review-g187265-d4793672-Reviews-Bollywood_Tandoor-Lyon_Rhone_Auvergne_Rhone_Alpes.html', 'restaurant_reviews': '4.5 of 5 bubbles. 368 reviews', 'restaurant_type': 'Indian', 'restaurant_price': '$'}\n",
      "{'restaurant_class': '19', 'restaurant_name': 'La Table d’Ambre', 'restaurant_url': '/Restaurant_Review-g187265-d15087146-Reviews-La_Table_d_Ambre-Lyon_Rhone_Auvergne_Rhone_Alpes.html', 'restaurant_reviews': '5.0 of 5 bubbles. 481 reviews', 'restaurant_type': 'French', 'restaurant_price': '$$$$'}\n",
      "{'restaurant_class': '20', 'restaurant_name': 'Saku Restaurant', 'restaurant_url': '/Restaurant_Review-g187265-d12398846-Reviews-Saku_Restaurant-Lyon_Rhone_Auvergne_Rhone_Alpes.html', 'restaurant_reviews': '4.5 of 5 bubbles. 183 reviews', 'restaurant_type': 'French, Japanese', 'restaurant_price': '$$ - $$$'}\n",
      "{'restaurant_class': '21', 'restaurant_name': 'Bouchon Les Lyonnais', 'restaurant_url': '/Restaurant_Review-g187265-d2281210-Reviews-Bouchon_Les_Lyonnais-Lyon_Rhone_Auvergne_Rhone_Alpes.html', 'restaurant_reviews': '4.0 of 5 bubbles. 1,620 reviews', 'restaurant_type': 'French, European', 'restaurant_price': '$$ - $$$'}\n",
      "{'restaurant_class': '22', 'restaurant_name': 'Fiston - Restaurants', 'restaurant_url': '/Restaurant_Review-g187265-d8745622-Reviews-Fiston_Restaurants-Lyon_Rhone_Auvergne_Rhone_Alpes.html', 'restaurant_reviews': '4.5 of 5 bubbles. 1,340 reviews', 'restaurant_type': 'French, European', 'restaurant_price': '$$ - $$$'}\n",
      "{'restaurant_class': '23', 'restaurant_name': 'Les Ventres Jaunes', 'restaurant_url': '/Restaurant_Review-g187265-d1643207-Reviews-Les_Ventres_Jaunes-Lyon_Rhone_Auvergne_Rhone_Alpes.html', 'restaurant_reviews': '4.0 of 5 bubbles. 1,263 reviews', 'restaurant_type': 'French, European', 'restaurant_price': '$$ - $$$'}\n",
      "{'restaurant_class': '24', 'restaurant_name': 'Le Penjab', 'restaurant_url': '/Restaurant_Review-g187265-d3242991-Reviews-Le_Penjab-Lyon_Rhone_Auvergne_Rhone_Alpes.html', 'restaurant_reviews': '4.5 of 5 bubbles. 319 reviews', 'restaurant_type': 'Indian, Pakistani', 'restaurant_price': '$$ - $$$'}\n",
      "{'restaurant_class': '25', 'restaurant_name': 'La Source', 'restaurant_url': '/Restaurant_Review-g187265-d17541665-Reviews-La_Source-Lyon_Rhone_Auvergne_Rhone_Alpes.html', 'restaurant_reviews': '5.0 of 5 bubbles. 133 reviews', 'restaurant_type': 'French, Healthy', 'restaurant_price': '$'}\n",
      "{'restaurant_class': '26', 'restaurant_name': 'Zappo', 'restaurant_url': '/Restaurant_Review-g187265-d12330374-Reviews-Zappo-Lyon_Rhone_Auvergne_Rhone_Alpes.html', 'restaurant_reviews': '4.5 of 5 bubbles. 573 reviews', 'restaurant_type': 'Italian, Pizza', 'restaurant_price': '$$ - $$$'}\n",
      "{'restaurant_class': '27', 'restaurant_name': \"Le Boeuf D'argent\", 'restaurant_url': '/Restaurant_Review-g187265-d4993538-Reviews-Le_Boeuf_D_argent-Lyon_Rhone_Auvergne_Rhone_Alpes.html', 'restaurant_reviews': '5.0 of 5 bubbles. 1,128 reviews', 'restaurant_type': 'French, Fusion', 'restaurant_price': '$$$$'}\n",
      "{'restaurant_class': '28', 'restaurant_name': 'Les Bons Vivants', 'restaurant_url': '/Restaurant_Review-g187265-d23396881-Reviews-Les_Bons_Vivants-Lyon_Rhone_Auvergne_Rhone_Alpes.html', 'restaurant_reviews': '4.5 of 5 bubbles. 296 reviews', 'restaurant_type': 'French, Wine Bar', 'restaurant_price': '$$ - $$$'}\n",
      "{'restaurant_class': '29', 'restaurant_name': 'Restaurant Un Deux Trois', 'restaurant_url': '/Restaurant_Review-g187265-d1326973-Reviews-Restaurant_Un_Deux_Trois-Lyon_Rhone_Auvergne_Rhone_Alpes.html', 'restaurant_reviews': '4.5 of 5 bubbles. 1,080 reviews', 'restaurant_type': 'French, European', 'restaurant_price': '$$ - $$$'}\n",
      "{'restaurant_class': '30', 'restaurant_name': 'Les Encavés', 'restaurant_url': '/Restaurant_Review-g187265-d24048789-Reviews-Les_Encaves-Lyon_Rhone_Auvergne_Rhone_Alpes.html', 'restaurant_reviews': '5.0 of 5 bubbles. 212 reviews', 'restaurant_type': 'French, Healthy', 'restaurant_price': None}\n"
     ]
    }
   ],
   "source": []
  },
  {
   "cell_type": "code",
   "execution_count": 231,
   "metadata": {},
   "outputs": [
    {
     "data": {
      "text/plain": [
       "{'restaurant_class': '30',\n",
       " 'restaurant_name': 'Les Encavés',\n",
       " 'restaurant_url': '/Restaurant_Review-g187265-d24048789-Reviews-Les_Encaves-Lyon_Rhone_Auvergne_Rhone_Alpes.html',\n",
       " 'restaurant_reviews': '5.0 of 5 bubbles. 212 reviews',\n",
       " 'restaurant_type': 'French, Healthy',\n",
       " 'restaurant_price': None}"
      ]
     },
     "execution_count": 231,
     "metadata": {},
     "output_type": "execute_result"
    }
   ],
   "source": [
    "doc"
   ]
  },
  {
   "cell_type": "code",
   "execution_count": 30,
   "metadata": {},
   "outputs": [],
   "source": [
    "restaurants_scraper.fetch_page('/FindRestaurants?geo=187265&offset=30&establishmentTypes=10591&minimumTravelerRating=TRAVELER_RATING_LOW&broadened=false')"
   ]
  },
  {
   "cell_type": "code",
   "execution_count": 68,
   "metadata": {},
   "outputs": [
    {
     "data": {
      "text/plain": [
       "[]"
      ]
     },
     "execution_count": 68,
     "metadata": {},
     "output_type": "execute_result"
    }
   ],
   "source": [
    "restaurants_scraper.get_restaurants_cards()"
   ]
  }
 ],
 "metadata": {
  "kernelspec": {
   "display_name": "nlp_project_python",
   "language": "python",
   "name": "python3"
  },
  "language_info": {
   "codemirror_mode": {
    "name": "ipython",
    "version": 3
   },
   "file_extension": ".py",
   "mimetype": "text/x-python",
   "name": "python",
   "nbconvert_exporter": "python",
   "pygments_lexer": "ipython3",
   "version": "3.11.10"
  }
 },
 "nbformat": 4,
 "nbformat_minor": 2
}
