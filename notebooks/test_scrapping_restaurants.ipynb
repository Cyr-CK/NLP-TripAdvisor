{
 "cells": [
  {
   "cell_type": "code",
   "execution_count": 1,
   "metadata": {},
   "outputs": [],
   "source": [
    "from bs4 import BeautifulSoup\n",
    "import re\n",
    "import time\n",
    "import requests\n",
    "import random\n",
    "import string\n",
    "\n",
    "import pandas as pd\n"
   ]
  },
  {
   "cell_type": "code",
   "execution_count": 2,
   "metadata": {},
   "outputs": [],
   "source": [
    "def clean_text(text: str) -> str:\n",
    "    txt = text.replace('\\n', ' ').replace('\\r', ' ').replace('\\t', ' ')\n",
    "    txt = txt.replace('  ', ' ')\n",
    "    return txt.strip()\n",
    "\n",
    "def extract_by_regex(text: str, regex: str) -> str:\n",
    "    pattern = re.compile(regex)\n",
    "    match = pattern.search(text)\n",
    "    if match:\n",
    "        # Check if there are any groups and return the first group if it exists\n",
    "        if match.groups():\n",
    "            return match.group(1) + \" \" + match.group(2) if len(match.groups()) > 1 else match.group(1)\n",
    "        else:\n",
    "            return match.group(0)  # Return the entire match if no groups are defined\n",
    "    return \"\"\n",
    "\n",
    "def filter_by_regex(text, pattern):\n",
    "    \"\"\"Extract data using a regular expression.\"\"\"\n",
    "    match = re.sub(pattern, '', text)\n",
    "    return match if match else None"
   ]
  },
  {
   "cell_type": "code",
   "execution_count": 3,
   "metadata": {},
   "outputs": [],
   "source": [
    "class TripAdvisorScraper:\n",
    "    \"\"\"\n",
    "    Base class for TripAdvisor scraping.\n",
    "    All other classes inherit from this.\n",
    "    \"\"\"\n",
    "    def __init__(self):\n",
    "        self.url_base = \"https://www.tripadvisor.fr\"\n",
    "        self.soup = None\n",
    "        self.url = None\n",
    "        self.full_url = None\n",
    "\n",
    "    def fetch_page(self, url):\n",
    "        \"\"\"Fetch a page and set the soup.\"\"\"\n",
    "        self.url = url\n",
    "        self.full_url = self.url_base + url\n",
    "        random_request_id = \"\".join(\n",
    "            random.choice(string.ascii_lowercase + string.digits) for _ in range(180)\n",
    "        )\n",
    "\n",
    "        headers = {\n",
    "            \"User-Agent\": \"Mozilla/5.0 (Windows NT 10.0; Win64; x64) AppleWebKit/537.36 (KHTML, like Gecko) Chrome/58.0.3029.110 Safari/537.3\",\n",
    "            \"accept-language\": \"en-US,en;q=0.9,fr;q=0.8\",\n",
    "            \"X-Requested-By\": random_request_id,\n",
    "        }\n",
    "\n",
    "        response = requests.get(self.full_url, headers=headers)\n",
    "        response.raise_for_status()\n",
    "        self.soup = BeautifulSoup(response.content, \"html.parser\")\n",
    "\n",
    "    def print_soup(self):\n",
    "        \"\"\"Print the soup for debugging purposes.\"\"\"\n",
    "        if self.soup:\n",
    "            print(self.soup.prettify())\n",
    "        else:\n",
    "            print(\"Soup is not initialized. Fetch the page first.\")\n",
    "\n",
    "    def get_next_url(self):\n",
    "        \"\"\"Get the next page's URL.\"\"\"\n",
    "        next_button = self.soup.find(\n",
    "            \"a\", class_=\"BrOJk u j z _F wSSLS tIqAi Vonfv\",\n",
    "            attrs={\"aria-label\": \"Suivant\"}\n",
    "        )\n",
    "        return next_button[\"href\"] if next_button else None\n"
   ]
  },
  {
   "cell_type": "code",
   "execution_count": 4,
   "metadata": {},
   "outputs": [],
   "source": [
    "class TripAdvisorRestaurantsScraper(TripAdvisorScraper):\n",
    "    \"\"\"Scraper for the list of restaurants.\"\"\"\n",
    "    def __init__(self):\n",
    "        super().__init__()\n",
    "        self.restaurant_data = []\n",
    "\n",
    "    def get_restaurant_cards(self):\n",
    "        \"\"\"Extract restaurant cards.\"\"\"\n",
    "        if self.soup:\n",
    "            cards = self.soup.find_all(\"div\", class_=\"vIjFZ Gi o VOEhq\")\n",
    "            if not cards:\n",
    "                print(\"No restaurant cards found. Check the structure.\")\n",
    "            return cards\n",
    "        print(\"Soup not initialized. Fetch the page first.\")\n",
    "        return []\n",
    "\n",
    "    def parse_restaurant(self, restaurant_card):\n",
    "        \"\"\"Parse data from a single restaurant card.\"\"\"\n",
    "        name_class = \"BMQDV _F Gv wSSLS SwZTJ FGwzt ukgoS\"\n",
    "        url_class = \"BMQDV _F Gv wSSLS SwZTJ FGwzt ukgoS\"\n",
    "        reviews_class = \"IiChw\"\n",
    "        median_reviews_class = \"Qqwyj\"\n",
    "\n",
    "        name = restaurant_card.find(\"a\", class_=name_class).get_text(strip=True) if restaurant_card.find(\"a\", class_=name_class) else None\n",
    "        url = restaurant_card.find(\"a\", class_=url_class)[\"href\"] if restaurant_card.find(\"a\", class_=url_class) else None\n",
    "        reviews = restaurant_card.find(\"span\", class_=reviews_class).get_text(strip=True) if restaurant_card.find(\"span\", class_=reviews_class) else None\n",
    "        median_reviews = restaurant_card.find(\"span\", class_=median_reviews_class).get_text(strip=True) if restaurant_card.find(\"span\", class_=median_reviews_class) else None\n",
    "        \n",
    "        ranking, name = name.split(\".\", 1) if name else (None, None)\n",
    "        # reviews = re.sub(r'\\W+', '', reviews) if reviews else None\n",
    "        url = url\n",
    "        reviews = filter_by_regex(reviews, r'\\W+') if reviews else None\n",
    "\n",
    "        return {\n",
    "            \"ranking\": ranking,\n",
    "            \"name\": name,\n",
    "            \"url\": url,\n",
    "            \"avg_review\": extract_by_regex(median_reviews, r\"(\\d+),(\\d+)?\") if median_reviews else None,\n",
    "            \"total_reviews\": extract_by_regex(reviews, r\"(\\d+)?\") if reviews else None,\n",
    "        }\n",
    "\n",
    "    def get_all_restaurants(self):\n",
    "        \"\"\"Get all restaurants.\"\"\"\n",
    "        restaurants = []\n",
    "        while self.url:\n",
    "            time.sleep(random.uniform(1, 3))\n",
    "            self.fetch_page(self.url)\n",
    "            restaurant_cards = self.get_restaurant_cards()\n",
    "            for card in restaurant_cards:\n",
    "                restaurant = self.parse_restaurant(card)\n",
    "                if restaurant:\n",
    "                    restaurants.append(restaurant)\n",
    "            print(f\"Scraped {len(restaurants)} restaurants\")\n",
    "            self.url = self.get_next_url()\n",
    "        return restaurants\n"
   ]
  },
  {
   "cell_type": "code",
   "execution_count": 5,
   "metadata": {},
   "outputs": [],
   "source": [
    "restaurants_comp = \"/FindRestaurants?geo=187265&offset=0&establishmentTypes=10591&minimumTravelerRating=TRAVELER_RATING_LOW&broadened=false/FindRestaurants?geo=187265&offset=0&establishmentTypes=10591&minimumTravelerRating=TRAVELER_RATING_LOW&broadened=false\"\n",
    "restaurants_scraper = TripAdvisorRestaurantsScraper()\n",
    "restaurants_scraper.fetch_page(restaurants_comp)"
   ]
  },
  {
   "cell_type": "code",
   "execution_count": 6,
   "metadata": {},
   "outputs": [
    {
     "name": "stdout",
     "output_type": "stream",
     "text": [
      "{'ranking': '1', 'name': 'Les Terrasses de Lyon', 'url': 'Restaurant_Reviewg187265d3727154ReviewsLes_Terrasses_de_LyonLyon_Rhone_Auvergne_Rhone_Alpeshtml', 'avg_review': '4 5', 'total_reviews': '918'}\n",
      "{'ranking': '2', 'name': 'Frazarin Bistrot Franco Italien', 'url': 'Restaurant_Reviewg187265d23110895ReviewsFrazarinLyon_Rhone_Auvergne_Rhone_Alpeshtml', 'avg_review': '5 0', 'total_reviews': '298'}\n",
      "{'ranking': '3', 'name': 'Le Grand Réfectoire', 'url': 'Restaurant_Reviewg187265d15373478ReviewsLe_Grand_RefectoireLyon_Rhone_Auvergne_Rhone_Alpeshtml', 'avg_review': '4 0', 'total_reviews': '1332'}\n",
      "{'ranking': '4', 'name': 'Le Comptoir Des Cousins', 'url': 'Restaurant_Reviewg187265d12874430ReviewsLe_Comptoir_Des_CousinsLyon_Rhone_Auvergne_Rhone_Alpeshtml', 'avg_review': '5 0', 'total_reviews': '711'}\n",
      "{'ranking': '5', 'name': 'Agastache Restaurant', 'url': 'Restaurant_Reviewg187265d20287839ReviewsAgastache_RestaurantLyon_Rhone_Auvergne_Rhone_Alpeshtml', 'avg_review': '5 0', 'total_reviews': '203'}\n",
      "{'ranking': '6', 'name': 'Le Casse Museau', 'url': 'Restaurant_Reviewg187265d949361ReviewsLe_Casse_MuseauLyon_Rhone_Auvergne_Rhone_Alpeshtml', 'avg_review': '5 0', 'total_reviews': '411'}\n",
      "{'ranking': '7', 'name': 'Le Vieux Lyon', 'url': 'Restaurant_Reviewg187265d1605401ReviewsLe_Vieux_LyonLyon_Rhone_Auvergne_Rhone_Alpeshtml', 'avg_review': '4 5', 'total_reviews': '948'}\n",
      "{'ranking': '8', 'name': 'Bouchon Les Lyonnais', 'url': 'Restaurant_Reviewg187265d2281210ReviewsBouchon_Les_LyonnaisLyon_Rhone_Auvergne_Rhone_Alpeshtml', 'avg_review': '4 0', 'total_reviews': '1623'}\n",
      "{'ranking': '9', 'name': 'Chez les garcons', 'url': 'Restaurant_Reviewg187265d1089676ReviewsChez_les_garconsLyon_Rhone_Auvergne_Rhone_Alpeshtml', 'avg_review': '4 5', 'total_reviews': '189'}\n",
      "{'ranking': '10', 'name': 'La Table d’Ambre', 'url': 'Restaurant_Reviewg187265d15087146ReviewsLa_Table_d_AmbreLyon_Rhone_Auvergne_Rhone_Alpeshtml', 'avg_review': '5 0', 'total_reviews': '482'}\n",
      "{'ranking': '11', 'name': \"L'Institut Restaurant\", 'url': 'Restaurant_Reviewg187265d5539701ReviewsL_Institut_RestaurantLyon_Rhone_Auvergne_Rhone_Alpeshtml', 'avg_review': '4 5', 'total_reviews': '1242'}\n",
      "{'ranking': '12', 'name': \"L'Acteur\", 'url': 'Restaurant_Reviewg187265d1332430ReviewsL_ActeurLyon_Rhone_Auvergne_Rhone_Alpeshtml', 'avg_review': '4 5', 'total_reviews': '339'}\n",
      "{'ranking': '13', 'name': 'Chez Micheline', 'url': 'Restaurant_Reviewg187265d19658212ReviewsChez_MichelineLyon_Rhone_Auvergne_Rhone_Alpeshtml', 'avg_review': '4 5', 'total_reviews': '129'}\n",
      "{'ranking': '14', 'name': 'Gabriella', 'url': 'Restaurant_Reviewg187265d13197448ReviewsGabriellaLyon_Rhone_Auvergne_Rhone_Alpeshtml', 'avg_review': '4 0', 'total_reviews': '488'}\n",
      "{'ranking': '15', 'name': 'Chez Antonin', 'url': 'Restaurant_Reviewg187265d2507320ReviewsChez_AntoninLyon_Rhone_Auvergne_Rhone_Alpeshtml', 'avg_review': '4 5', 'total_reviews': '515'}\n",
      "{'ranking': '16', 'name': 'Brasserie Georges', 'url': 'Restaurant_Reviewg187265d695217ReviewsBrasserie_GeorgesLyon_Rhone_Auvergne_Rhone_Alpeshtml', 'avg_review': '4 0', 'total_reviews': '8881'}\n",
      "{'ranking': '17', 'name': 'Carmelo', 'url': 'Restaurant_Reviewg187265d20088872ReviewsCarmeloLyon_Rhone_Auvergne_Rhone_Alpeshtml', 'avg_review': '4 0', 'total_reviews': '795'}\n",
      "{'ranking': '18', 'name': 'Le Desjeuneur', 'url': 'Restaurant_Reviewg187265d12714765ReviewsLe_DesjeuneurLyon_Rhone_Auvergne_Rhone_Alpeshtml', 'avg_review': '4 5', 'total_reviews': '446'}\n",
      "{'ranking': '19', 'name': 'Tigermilk', 'url': 'Restaurant_Reviewg187265d26154348ReviewsTigermilk_LyonLyon_Rhone_Auvergne_Rhone_Alpeshtml', 'avg_review': '4 0', 'total_reviews': '117'}\n",
      "{'ranking': '20', 'name': 'Chez Chabert', 'url': 'Restaurant_Reviewg187265d1330199ReviewsChez_ChabertLyon_Rhone_Auvergne_Rhone_Alpeshtml', 'avg_review': '4 0', 'total_reviews': '922'}\n",
      "{'ranking': '21', 'name': 'Chez Léon', 'url': 'Restaurant_Reviewg187265d714976ReviewsChez_LeonLyon_Rhone_Auvergne_Rhone_Alpeshtml', 'avg_review': '4 0', 'total_reviews': '170'}\n",
      "{'ranking': '22', 'name': 'M Restaurant', 'url': 'Restaurant_Reviewg187265d2500402ReviewsM_RestaurantLyon_Rhone_Auvergne_Rhone_Alpeshtml', 'avg_review': '4 5', 'total_reviews': '477'}\n",
      "{'ranking': '23', 'name': 'Restaurant Le Musée', 'url': 'Restaurant_Reviewg187265d1395616ReviewsRestaurant_Le_MuseeLyon_Rhone_Auvergne_Rhone_Alpeshtml', 'avg_review': '4 5', 'total_reviews': '1888'}\n",
      "{'ranking': '24', 'name': \"L'affreux Jojo\", 'url': 'Restaurant_Reviewg187265d15114321ReviewsL_affreux_JojoLyon_Rhone_Auvergne_Rhone_Alpeshtml', 'avg_review': '5 0', 'total_reviews': '583'}\n",
      "{'ranking': '25', 'name': 'Les 3 Dômes', 'url': 'Restaurant_Reviewg187265d798706ReviewsLes_3_DomesLyon_Rhone_Auvergne_Rhone_Alpeshtml', 'avg_review': '4 5', 'total_reviews': '1007'}\n",
      "{'ranking': '26', 'name': 'Chez Paul', 'url': 'Restaurant_Reviewg187265d1867024ReviewsChez_PaulLyon_Rhone_Auvergne_Rhone_Alpeshtml', 'avg_review': '4 5', 'total_reviews': '1210'}\n",
      "{'ranking': '27', 'name': 'Bouchon Comptoir Brunet', 'url': 'Restaurant_Reviewg187265d7381465ReviewsBouchon_Comptoir_BrunetLyon_Rhone_Auvergne_Rhone_Alpeshtml', 'avg_review': '4 0', 'total_reviews': '388'}\n",
      "{'ranking': '28', 'name': 'Aromatic Restaurant', 'url': 'Restaurant_Reviewg187265d12337867ReviewsAromatic_RestaurantLyon_Rhone_Auvergne_Rhone_Alpeshtml', 'avg_review': '5 0', 'total_reviews': '1118'}\n",
      "{'ranking': '29', 'name': 'Bouchon Des Cordeliers', 'url': 'Restaurant_Reviewg187265d8665518ReviewsBouchon_Des_CordeliersLyon_Rhone_Auvergne_Rhone_Alpeshtml', 'avg_review': '4 5', 'total_reviews': '1268'}\n",
      "{'ranking': '30', 'name': 'Chez Grand Mere Lyon', 'url': 'Restaurant_Reviewg187265d2720343ReviewsChez_Grand_Mere_LyonLyon_Rhone_Auvergne_Rhone_Alpeshtml', 'avg_review': '4 0', 'total_reviews': '1160'}\n"
     ]
    }
   ],
   "source": [
    "cards = restaurants_scraper.get_restaurant_cards()\n",
    "for card in cards:\n",
    "    print(restaurants_scraper.parse_restaurant(card))"
   ]
  },
  {
   "cell_type": "code",
   "execution_count": 7,
   "metadata": {},
   "outputs": [
    {
     "data": {
      "text/plain": [
       "NoneType"
      ]
     },
     "execution_count": 7,
     "metadata": {},
     "output_type": "execute_result"
    }
   ],
   "source": [
    "url = restaurants_scraper.get_next_url()\n",
    "type(url)\n"
   ]
  }
 ],
 "metadata": {
  "kernelspec": {
   "display_name": "nlp_project_python",
   "language": "python",
   "name": "python3"
  },
  "language_info": {
   "codemirror_mode": {
    "name": "ipython",
    "version": 3
   },
   "file_extension": ".py",
   "mimetype": "text/x-python",
   "name": "python",
   "nbconvert_exporter": "python",
   "pygments_lexer": "ipython3",
   "version": "3.11.10"
  }
 },
 "nbformat": 4,
 "nbformat_minor": 2
}
